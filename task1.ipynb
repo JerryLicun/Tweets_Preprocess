{
 "cells": [
  {
   "cell_type": "markdown",
   "metadata": {},
   "source": [
    "# FIT5196 Task 1 in Assessment 1\n",
    "#### Student Name: LICUN LIU\n",
    "#### Student ID: 30901235\n",
    "\n",
    "Date: 03/09/2020\n",
    "\n",
    "Version: 1.0\n",
    "\n",
    "Environment: Python 2.7.11 and Jupyter notebook\n",
    "\n",
    "Libraries used: please include the main libraries you used in your assignment here, e.g.,:\n",
    "* pandas (for dataframe, included in Anaconda Python 2.7) \n",
    "* re (for regular expression, included in Anaconda Python 2.7) \n",
    "* numpy (for numpy array, included in Anaconda Python 2.7) \n",
    "\n",
    "<font size=3, color=\"red\"> Note: this is a sample notebook only. You will need to fill in the proper markdown and code blocks. You might also want to make necessary changes to the structure to meet your own needs. It is important to make sure the logic of how you finish the assessment is clearly shown in this notebook! </font>"
   ]
  },
  {
   "cell_type": "markdown",
   "metadata": {},
   "source": [
    "## 1.  Import libraries "
   ]
  },
  {
   "cell_type": "code",
   "execution_count": 1,
   "metadata": {},
   "outputs": [],
   "source": [
    "import os\n",
    "import re\n",
    "import langid"
   ]
  },
  {
   "cell_type": "markdown",
   "metadata": {
    "collapsed": true
   },
   "source": [
    "## 2. Parse XXXX File\n",
    "\n",
    "In this section, you can write your python scripts to parse the correspondiing file.\n",
    "You should \n",
    "* write proper notes for all code block in this notebook using the Markdown cells\n",
    "* provide proper comment in your scripts\n",
    "* run all cells to make sure scripts are runable. If the scripts cannot be run by the assessors, they will not be assessed and zero mark will be given to the task."
   ]
  },
  {
   "cell_type": "code",
   "execution_count": 3,
   "metadata": {},
   "outputs": [],
   "source": [
    "path = \"./\"             # Document Directory\n",
    "files= os.listdir(path) # Get the name of all documents\n",
    "\n",
    "# Defined variables\n",
    "time_list = []\n",
    "id_list=[]\n",
    "\n",
    "# Open the output files and write the title in it.\n",
    "f = open(\"output.xml\", 'a',encoding='utf-8')\n",
    "f.write(\"<?xml version=\\\"1.0\\\" encoding=\\\"UTF-8\\\"?>\\n<data>\\n\")\n",
    "\n",
    "# Traverse the directory\n",
    "for file in files: \n",
    "    \n",
    "    # Get the filename\n",
    "    file_path = path+\"/\"+file\n",
    "    (filepath, tempfilename) = os.path.split(file_path)\n",
    "    (filename,extension) = os.path.splitext(tempfilename)\n",
    "\n",
    "    # Using filename to extract the time\n",
    "    name_match = re.match(r'(.*)_(.*).txt', tempfilename)\n",
    "    if name_match:\n",
    "        input_file = open(path + \"/\" + file, 'rb');     # Open the input file\n",
    "        lines = input_file.read().decode('utf-8')       # Read the file\n",
    "\n",
    "        time = name_match.group(1)\n",
    "        id_number = re.findall(r'\\\"id\\\"\\:\\\"(?:\\d){19}', lines)  # Using regular expression to extract id\n",
    "        text = re.findall('text\\\"\\:\\\"(.+?)\\\"[\\,}]', lines)         # Using regular expression to extract text\n",
    "        \n",
    "        # Document is in the same date or not \n",
    "        if time in time_list:\n",
    "            pass\n",
    "        else:\n",
    "            f.write(\"</tweets>\" + \"\\n\" + \"<tweets date=\\\"\" + time + \"\\\">\\n\")\n",
    "            time_list.append(time)\n",
    "        \n",
    "        # Using loop to read all content\n",
    "        i = 0\n",
    "        while i < len(id_number) - 1:\n",
    "            \n",
    "            # “id”s are unique and only in English language\n",
    "            if langid.classify(text[i])[0] == \"en\" and id_number[i] not in id_list:\n",
    "                id_list.append(id_number[i])\n",
    "                f.write(\"<tweet id=\\\"\" + id_number[i][6:25] + \"\\\">\")\n",
    "                \n",
    "                # Deal with some emotion icon\n",
    "                text_emotion = re.findall(r'\\\\u\\w{4}',text[i])\n",
    "                emotion = lambda text_emotion: text_emotion.encode('ascii').decode('raw_unicode_escape')\n",
    "\n",
    "                for x in text_emotion:\n",
    "                    text[i] = text[i].replace(x,emotion(x))\n",
    "\n",
    "                text[i] = text[i].encode('utf-16', 'surrogatepass').decode('utf-16')\n",
    "                \n",
    "                text[i] = text[i].replace('\\\\n', '\\n')      # Deal with '\\n' problem\n",
    "                text[i] = text[i].replace('\\'', '&apos;')   # Deal with '‘' problem\n",
    "                text[i] = text[i].replace('\\\\\\\"', '&quot;') # Deal with '\\\"\"' problem\n",
    "                \n",
    "                f.write(text[i] + \"</tweet>\\n\")\n",
    "            i = i + 1\n",
    "\n",
    "f.write(\"</tweets>\\n</data>\")\n",
    "f.close()"
   ]
  },
  {
   "cell_type": "markdown",
   "metadata": {},
   "source": [
    "## 3. Summary\n",
    "Give a short summary of your work done above, such as your findings."
   ]
  },
  {
   "cell_type": "markdown",
   "metadata": {
    "collapsed": true
   },
   "source": [
    "#### When I write all of my codes in a loop, it is inconvenient to write the markdown document. So, we need to prevent this situation."
   ]
  },
  {
   "cell_type": "code",
   "execution_count": null,
   "metadata": {},
   "outputs": [],
   "source": []
  }
 ],
 "metadata": {
  "kernelspec": {
   "display_name": "Python 3",
   "language": "python",
   "name": "python3"
  },
  "language_info": {
   "codemirror_mode": {
    "name": "ipython",
    "version": 3
   },
   "file_extension": ".py",
   "mimetype": "text/x-python",
   "name": "python",
   "nbconvert_exporter": "python",
   "pygments_lexer": "ipython3",
   "version": "3.7.6"
  }
 },
 "nbformat": 4,
 "nbformat_minor": 1
}
